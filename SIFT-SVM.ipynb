{
 "cells": [
  {
   "cell_type": "markdown",
   "id": "aacce783",
   "metadata": {},
   "source": [
    "# Importing Dependencies"
   ]
  },
  {
   "cell_type": "code",
   "execution_count": 1,
   "id": "b03d8033",
   "metadata": {},
   "outputs": [],
   "source": [
    "import cv2\n",
    "import os\n",
    "import numpy as np\n",
    "from sklearn.model_selection import train_test_split\n",
    "from sklearn.svm import SVC\n",
    "from sklearn.metrics import accuracy_score, confusion_matrix\n",
    "import matplotlib.pyplot as plt\n",
    "import seaborn as sns"
   ]
  },
  {
   "cell_type": "markdown",
   "id": "76dea357",
   "metadata": {},
   "source": [
    "# Load and preprocess the dataset"
   ]
  },
  {
   "cell_type": "code",
   "execution_count": 2,
   "id": "4f730ca7",
   "metadata": {},
   "outputs": [],
   "source": [
    "# Load and preprocess the dataset\n",
    "def load_dataset():\n",
    "    dataset_path = r\"C:\\Users\\HP\\Desktop\\project for old CV methods\\Data\"\n",
    "    labels = os.listdir(dataset_path)\n",
    "    sift = cv2.SIFT_create(40)\n",
    "    all_descriptors = []\n",
    "    all_labels = []\n",
    "\n",
    "\n",
    "    for label in labels:\n",
    "        label_path = os.path.join(dataset_path, label)\n",
    "        descriptors_per_label = []\n",
    "        for image_file in os.listdir(label_path):\n",
    "            image_path = os.path.join(label_path, image_file)\n",
    "            img = cv2.imread(image_path, cv2.IMREAD_GRAYSCALE)\n",
    "            _, descriptors = sift.detectAndCompute(img, None)\n",
    "            descriptors = np.sum(descriptors, axis=0)  # columns wise adding\n",
    "            descriptors = descriptors/(np.linalg.norm(descriptors) + 1e-6)\n",
    "            all_descriptors.append(descriptors)\n",
    "            all_labels.append(label)\n",
    "                              \n",
    "    return np.array(all_descriptors), all_labels\n",
    "\n",
    "X, y = load_dataset()"
   ]
  },
  {
   "cell_type": "markdown",
   "id": "b5713e8e",
   "metadata": {},
   "source": [
    "# Preprocessing and Train-Test split"
   ]
  },
  {
   "cell_type": "code",
   "execution_count": 3,
   "id": "3943ab12",
   "metadata": {},
   "outputs": [],
   "source": [
    "# Create a mapping from string labels to numeric labels\n",
    "label_mapping = {label: index for index, label in enumerate(set(y))}\n",
    "\n",
    "# Convert string labels to numeric labels using the mapping\n",
    "numeric_y = [label_mapping[label] for label in y]\n",
    "\n",
    "# Reshape the data to a 2D array (required by the encoder)\n",
    "y = [[i] for i in numeric_y]\n",
    "\n",
    "train_data1, test_data1, train_labels1, test_labels1 = train_test_split(X, y,\n",
    "                                                                        random_state=42, test_size=0.20,shuffle=True)"
   ]
  },
  {
   "cell_type": "markdown",
   "id": "d49eb125",
   "metadata": {},
   "source": [
    "# Model Creation"
   ]
  },
  {
   "cell_type": "code",
   "execution_count": 4,
   "id": "0adab9da",
   "metadata": {},
   "outputs": [
    {
     "name": "stderr",
     "output_type": "stream",
     "text": [
      "C:\\Users\\HP\\AppData\\Roaming\\Python\\Python39\\site-packages\\sklearn\\utils\\validation.py:1143: DataConversionWarning: A column-vector y was passed when a 1d array was expected. Please change the shape of y to (n_samples, ), for example using ravel().\n",
      "  y = column_or_1d(y, warn=True)\n"
     ]
    },
    {
     "name": "stdout",
     "output_type": "stream",
     "text": [
      "Accuracy: 51.34%\n"
     ]
    }
   ],
   "source": [
    "# Train a Support Vector Machine (SVM) classifier\n",
    "svm_classifier = SVC(C=1.0, kernel='linear', gamma='scale', probability=True, decision_function_shape='ovr')\n",
    "svm_classifier.fit(train_data1, train_labels1)\n",
    "\n",
    "# Make predictions on the test set\n",
    "y_pred = svm_classifier.predict(test_data1)\n",
    "\n",
    "# Calculate accuracy\n",
    "accuracy = accuracy_score(test_labels1, y_pred)\n",
    "print(f\"Accuracy: {accuracy * 100:.2f}%\")"
   ]
  },
  {
   "cell_type": "markdown",
   "id": "2dfe210e",
   "metadata": {},
   "source": [
    "# Visualization"
   ]
  },
  {
   "cell_type": "code",
   "execution_count": 5,
   "id": "e8689c45",
   "metadata": {},
   "outputs": [
    {
     "data": {
      "image/png": "[encoded data removed]",
      "text/plain": [
       "<Figure size 800x600 with 1 Axes>"
      ]
     },
     "metadata": {},
     "output_type": "display_data"
    }
   ],
   "source": [
    "# Confusion Metrics\n",
    "predictions = svm_classifier.predict(test_data1)\n",
    "cm = confusion_matrix(test_labels1, predictions)\n",
    "\n",
    "# Plot the confusion matrix using Seaborn\n",
    "plt.figure(figsize=(8, 6))\n",
    "sns.heatmap(cm, annot=True, fmt='d', cmap='Blues', cbar=False)\n",
    "plt.xlabel('Predicted')\n",
    "plt.ylabel('True')\n",
    "plt.title('Confusion Matrix')\n",
    "plt.show()"
   ]
  },
  {
   "cell_type": "code",
   "execution_count": null,
   "id": "7d438045",
   "metadata": {},
   "outputs": [],
   "source": []
  }
 ],
 "metadata": {
  "kernelspec": {
   "display_name": "Python 3 (ipykernel)",
   "language": "python",
   "name": "python3"
  },
  "language_info": {
   "codemirror_mode": {
    "name": "ipython",
    "version": 3
   },
   "file_extension": ".py",
   "mimetype": "text/x-python",
   "name": "python",
   "nbconvert_exporter": "python",
   "pygments_lexer": "ipython3",
   "version": "3.9.15"
  }
 },
 "nbformat": 4,
 "nbformat_minor": 5
}
